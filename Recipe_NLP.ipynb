{
 "cells": [
  {
   "cell_type": "code",
   "execution_count": 98,
   "source": [
    "import pandas as pd\n",
    "import numpy as np\n",
    "import matplotlib.pyplot as plt\n",
    "import ast\n",
    "import string\n",
    "import re\n",
    "from unidecode import unidecode\n",
    "from nltk.stem import WordNetLemmatizer\n",
    "from nltk.corpus import wordnet, stopwords\n",
    "from collections import Counter\n",
    "import nltk\n",
    "vocabulary = nltk.FreqDist()\n",
    "from sklearn.feature_extraction.text import TfidfVectorizer\n",
    "import pickle\n",
    "import _pickle as cPickle\n",
    "import config\n",
    "import spacy\n",
    "import gc\n"
   ],
   "outputs": [],
   "metadata": {}
  },
  {
   "cell_type": "code",
   "execution_count": 69,
   "source": [
    "# nlp = spacy.load(\"en_core_web_sm\")\n",
    "# spacy.load('en_core_web_sm')"
   ],
   "outputs": [],
   "metadata": {}
  },
  {
   "cell_type": "code",
   "execution_count": 70,
   "source": [
    "interactions = pd.read_csv('./Data (remove before  commit)/RAW_interactions.csv').sort_values('rating').drop_duplicates('recipe_id') \n",
    "recipes_data = pd.read_csv('./Data (remove before  commit)/RAW_recipes.csv')\n",
    "\n",
    "full_data = pd.merge(recipes_data, interactions, right_on=['recipe_id'], left_on=['id'])"
   ],
   "outputs": [],
   "metadata": {}
  },
  {
   "cell_type": "code",
   "execution_count": 71,
   "source": [
    "# full_data.info()\n",
    "# recipes.head(1)\n",
    "\n",
    "# object = pd.read_pickle(r'/Users/scottsturtz/DSI/School_Work/Smash_Capstones/Capstone3/my_app/data/pandas_actual2.pkl')"
   ],
   "outputs": [],
   "metadata": {}
  },
  {
   "cell_type": "code",
   "execution_count": 72,
   "source": [
    "# object.head(1)\n"
   ],
   "outputs": [],
   "metadata": {}
  },
  {
   "cell_type": "code",
   "execution_count": 73,
   "source": [
    "data=full_data.copy()\n",
    "recipes = pd.DataFrame(columns = ['_id','combined'  ,'direction_list' ,'ingred_list','item_name', 'stars', 'submitter_desc' ])\n",
    "recipes[['_id','direction_list', 'ingred_list', 'item_name', 'stars', 'submitter_desc']] = data[['recipe_id', 'steps', 'ingredients', 'name', 'rating', 'description']].sort_values('recipe_id')\n",
    "# recipes.drop(columns=['nutrition', 'tags', 'id', 'steps', 'ingredients', 'name', 'rating', 'description','contributor_id'\t,'submitted','user_id','date',\t'submitter_desc'\t], inplace=True)\n",
    "\n",
    "\n",
    "\n",
    "\n"
   ],
   "outputs": [],
   "metadata": {}
  },
  {
   "cell_type": "code",
   "execution_count": 74,
   "source": [
    "recipes.head(2)"
   ],
   "outputs": [
    {
     "output_type": "execute_result",
     "data": {
      "text/plain": [
       "        _id combined                                     direction_list  \\\n",
       "126987   38      NaN  ['toss 2 cups berries with sugar', 'let stand ...   \n",
       "23695    39      NaN  ['soak saffron in warm milk for 5 minutes and ...   \n",
       "\n",
       "                                              ingred_list  \\\n",
       "126987  ['blueberries', 'granulated sugar', 'vanilla y...   \n",
       "23695   ['saffron', 'milk', 'hot green chili peppers',...   \n",
       "\n",
       "                                item_name  stars  \\\n",
       "126987  low fat berry blue frozen dessert      4   \n",
       "23695                             biryani      3   \n",
       "\n",
       "                                           submitter_desc  \n",
       "126987  this is yummy and low-fat, it always turns out...  \n",
       "23695                                        delhi, india  "
      ],
      "text/html": [
       "<div>\n",
       "<style scoped>\n",
       "    .dataframe tbody tr th:only-of-type {\n",
       "        vertical-align: middle;\n",
       "    }\n",
       "\n",
       "    .dataframe tbody tr th {\n",
       "        vertical-align: top;\n",
       "    }\n",
       "\n",
       "    .dataframe thead th {\n",
       "        text-align: right;\n",
       "    }\n",
       "</style>\n",
       "<table border=\"1\" class=\"dataframe\">\n",
       "  <thead>\n",
       "    <tr style=\"text-align: right;\">\n",
       "      <th></th>\n",
       "      <th>_id</th>\n",
       "      <th>combined</th>\n",
       "      <th>direction_list</th>\n",
       "      <th>ingred_list</th>\n",
       "      <th>item_name</th>\n",
       "      <th>stars</th>\n",
       "      <th>submitter_desc</th>\n",
       "    </tr>\n",
       "  </thead>\n",
       "  <tbody>\n",
       "    <tr>\n",
       "      <th>126987</th>\n",
       "      <td>38</td>\n",
       "      <td>NaN</td>\n",
       "      <td>['toss 2 cups berries with sugar', 'let stand ...</td>\n",
       "      <td>['blueberries', 'granulated sugar', 'vanilla y...</td>\n",
       "      <td>low fat berry blue frozen dessert</td>\n",
       "      <td>4</td>\n",
       "      <td>this is yummy and low-fat, it always turns out...</td>\n",
       "    </tr>\n",
       "    <tr>\n",
       "      <th>23695</th>\n",
       "      <td>39</td>\n",
       "      <td>NaN</td>\n",
       "      <td>['soak saffron in warm milk for 5 minutes and ...</td>\n",
       "      <td>['saffron', 'milk', 'hot green chili peppers',...</td>\n",
       "      <td>biryani</td>\n",
       "      <td>3</td>\n",
       "      <td>delhi, india</td>\n",
       "    </tr>\n",
       "  </tbody>\n",
       "</table>\n",
       "</div>"
      ]
     },
     "metadata": {},
     "execution_count": 74
    }
   ],
   "metadata": {}
  },
  {
   "cell_type": "code",
   "execution_count": 75,
   "source": [
    "\n",
    "\n",
    "# recipes['summary']= recipes['summary'].str.replace('\\d+', '') #remove digits\n",
    "recipes['summary']= recipes['direction_list'].str.replace('[^\\w\\s]', '')#remove punctuation\n",
    "\n",
    "# Making recipe a string\n",
    "recipes['instructions'] = recipes['direction_list'].apply(lambda x : \" \".join(ast.literal_eval(x)))\n",
    "# recipes['ingredients']=recipes['ingredients'].apply(lambda x : \" \".join(ast.literal_eval(x)))\n"
   ],
   "outputs": [
    {
     "output_type": "stream",
     "name": "stderr",
     "text": [
      "<ipython-input-75-0e7f36f3f483>:2: FutureWarning: The default value of regex will change from True to False in a future version.\n",
      "  recipes['summary']= recipes['direction_list'].str.replace('[^\\w\\s]', '')#remove punctuation\n"
     ]
    }
   ],
   "metadata": {}
  },
  {
   "cell_type": "code",
   "execution_count": 76,
   "source": [
    "# # counting unique values\n",
    "# n = len(pd.unique(interactions['recipe_id']))\n",
    "  \n",
    "# print(\"No.of.unique values :\", \n",
    "#       n)"
   ],
   "outputs": [],
   "metadata": {}
  },
  {
   "cell_type": "code",
   "execution_count": 77,
   "source": [
    "# for i in recipes['ingredients']:\n",
    "#     i = i.split()\n",
    "#     vocabulary.update(i)\n",
    "\n",
    "# ingredient_bank = vocabulary"
   ],
   "outputs": [],
   "metadata": {}
  },
  {
   "cell_type": "code",
   "execution_count": null,
   "source": [],
   "outputs": [],
   "metadata": {}
  },
  {
   "cell_type": "code",
   "execution_count": 78,
   "source": [
    "# for word, freq in ingredient_bank.most_common(200):\n",
    "#     print(f'{word};{freq}')"
   ],
   "outputs": [],
   "metadata": {}
  },
  {
   "cell_type": "code",
   "execution_count": 79,
   "source": [
    "def parser(ingreds):\n",
    "    measurements = list(set(['teaspoon', 't', 'tsp.', 'tablespoon', 'T', 'tbl.', 'tb', 'tbsp.', 'fluid ounce', 'fl oz', \n",
    "    'gill', 'cup', 'c', 'pint', 'p', 'pt', 'fl pt', 'quart', 'q', 'qt', 'fl qt', 'gallon', 'g', 'gal', 'ml', 'milliliter',\n",
    "     'millilitre', 'cc', 'mL', 'l', 'liter', 'litre', 'L', 'dl', 'deciliter', 'decilitre', 'dL', 'bulb', 'level', 'heaped', \n",
    "     'rounded', 'whole', 'pinch', 'medium', 'slice', 'pound', 'lb', '#', 'ounce', 'oz', 'mg', 'milligram', 'milligramme', \n",
    "     'g', 'gram', 'gramme', 'kg', 'kilogram', 'kilogramme', 'x', 'of', 'mm', 'millimetre', 'millimeter', 'cm', 'centimeter', \n",
    "     'centimetre', 'm', 'meter', 'metre', 'inch', 'in', 'milli', 'centi', 'deci', 'hecto', 'kilo']))\n",
    "    # xtra_stop_words = ['fresh', 'oil', 'a', 'red', 'bunch', 'and', 'clove', 'or', 'leaf', 'chilli', 'large', 'extra', 'sprig',\n",
    "    #  'ground', 'handful', 'free', 'small', 'pepper', 'virgin', 'range', 'from', 'dried', 'sustainable', 'black', 'peeled', 'higher',\n",
    "    #   'welfare', 'seed', 'for', 'finely', 'freshly', 'sea', 'quality', 'white', 'ripe', 'few', 'piece', 'source', 'to', 'organic', \n",
    "    #   'flat', 'smoked', 'ginger', 'sliced', 'green', 'picked', 'the', 'stick', 'plain', 'plus', 'mixed', 'mint', 'bay', 'basil', \n",
    "    #   'your', 'cumin', 'optional', 'fennel', 'serve', 'mustard', 'unsalted', 'baby', 'paprika', 'fat', 'ask', 'natural', 'skin', \n",
    "    #   'roughly', 'into', 'such', 'cut', 'good', 'brown', 'grated', 'trimmed', 'oregano', 'powder', 'yellow', 'dusting', 'knob', \n",
    "    #   'frozen', 'on', 'deseeded', 'low', 'runny', 'balsamic', 'cooked', 'streaky', 'nutmeg', 'sage', 'rasher', 'zest', 'pin', \n",
    "    #   'groundnut', 'breadcrumb', 'turmeric', 'halved', 'grating', 'stalk', 'light', 'tinned', 'dry', 'soft', 'rocket', 'bone', \n",
    "    #   'colour', 'washed', 'skinless', 'leftover', 'splash', 'removed', 'dijon', 'thick', 'big', 'hot', 'drained', 'sized', \n",
    "    #   'chestnut', 'watercress', 'fishmonger', 'english', 'dill', 'caper', 'raw', 'worcestershire', 'flake', 'cider', 'cayenne', \n",
    "    #   'tbsp', 'leg', 'pine', 'wild', 'if', 'fine', 'herb', 'almond', 'shoulder', 'cube', 'dressing', 'with', 'chunk', 'spice', \n",
    "    #   'thumb', 'garam', 'new', 'little', 'punnet', 'peppercorn', 'shelled', 'saffron', 'other''chopped', 'salt', 'olive', 'taste', \n",
    "    #   'can', 'sauce', 'water', 'diced', 'package', 'italian', 'shredded', 'divided', 'parsley', 'vinegar', 'all', 'purpose', \n",
    "    #   'crushed', 'juice', 'more', 'coriander', 'bell', 'needed', 'thinly', 'boneless', 'half', 'thyme', 'cubed', 'cinnamon', \n",
    "    #   'cilantro', 'jar', 'seasoning', 'rosemary', 'extract', 'sweet', 'baking', 'beaten', 'heavy', 'seeded', 'tin', 'vanilla', \n",
    "    #   'uncooked', 'crumb', 'style', 'thin', 'nut', 'coarsely', 'spring', 'chili', 'cornstarch', 'strip', 'cardamom', 'rinsed', \n",
    "    #   'honey', 'cherry', 'root', 'quartered', 'head', 'softened', 'container', 'crumbled', 'frying', 'lean', 'cooking', 'roasted', \n",
    "    #   'warm', 'whipping', 'thawed', 'corn', 'pitted', 'sun', 'kosher', 'bite', 'toasted', 'lasagna', 'split', 'melted', 'degree', \n",
    "    #   'lengthwise', 'romano', 'packed', 'pod', 'anchovy', 'rom', 'prepared', 'juiced', 'fluid', 'floret', 'room', 'active', \n",
    "    #   'seasoned', 'mix', 'deveined', 'lightly', 'anise', 'thai', 'size', 'unsweetened', 'torn', 'wedge', 'sour', 'basmati', \n",
    "    #   'marinara', 'dark', 'temperature', 'garnish', 'bouillon', 'loaf', 'shell', 'reggiano', 'canola', 'parmigiano', 'round',\n",
    "    #    'canned', 'ghee', 'crust', 'long', 'broken', 'ketchup', 'bulk', 'cleaned', 'condensed', 'sherry', 'provolone', 'cold', \n",
    "    #    'soda', 'cottage', 'spray', 'tamarind', 'pecorino', 'shortening', 'part', 'bottle', 'sodium', 'cocoa', 'grain', 'french', \n",
    "    #    'roast', 'stem', 'link', 'firm', 'asafoetida', 'mild', 'dash', 'boiling']\n",
    "\n",
    "    if isinstance(ingreds, list):\n",
    "\n",
    "        ingredients=ingreds\n",
    "    else:\n",
    "        ingredients = ast.literal_eval(ingreds)\n",
    "        \n",
    "    # ingredients = ','.join(ingredients)\n",
    "    \n",
    "    translator = str.maketrans(\"\", \"\", string.punctuation)\n",
    "    lemmatizer = WordNetLemmatizer()\n",
    "\n",
    "    grocery_bag = []\n",
    "    for i in ingredients:\n",
    "        i.translate(translator)\n",
    "        items = re.split(\" |-\",i)\n",
    "        items = [word for word in items if word.isalpha()]\n",
    "        items = [word.lower() for word in items]\n",
    "        items = [unidecode(word) for word in items]\n",
    "        # Lemmatize words \n",
    "        items = [lemmatizer.lemmatize(word) for word in items]\n",
    "        # remove stop words\n",
    "        stop_words = stopwords.words(\"english\")\n",
    "        items = [word for word in items if word not in stop_words]\n",
    "        # remove measuring phrases\n",
    "        items = [word for word in items if word not in measurements]\n",
    "        # # remove misc words\n",
    "        # items = [word for word in items if word not in xtra_stop_words]\n",
    "        if items:\n",
    "            # grocery_bag += items\n",
    "           grocery_bag.append(\" \".join(items))\n",
    "    grocery_bag = \" \".join(grocery_bag)\n",
    "    return grocery_bag     \n",
    "    \n"
   ],
   "outputs": [],
   "metadata": {}
  },
  {
   "cell_type": "code",
   "execution_count": 80,
   "source": [
    "\n",
    "# market = parser(recipes['ingredients'])\n",
    "#takes a long time 3536 s\n"
   ],
   "outputs": [],
   "metadata": {}
  },
  {
   "cell_type": "code",
   "execution_count": 81,
   "source": [
    "recipes['combined'] = recipes['ingred_list'].apply(lambda x: parser(x)) \n",
    "#cleaning and organizing data\n",
    "recipes.dropna(inplace=True)\n",
    "\n",
    "# takes around 311 s"
   ],
   "outputs": [],
   "metadata": {}
  },
  {
   "cell_type": "code",
   "execution_count": 82,
   "source": [
    "#cleaning and organizing data\n",
    "recipes.head(3)"
   ],
   "outputs": [
    {
     "output_type": "execute_result",
     "data": {
      "text/plain": [
       "        _id                                           combined  \\\n",
       "126987   38  blueberry granulated sugar vanilla yogurt lemo...   \n",
       "23695    39  saffron milk hot green chili pepper onion garl...   \n",
       "22701    40  sugar rind fresh water fresh lemon juice ice c...   \n",
       "\n",
       "                                           direction_list  \\\n",
       "126987  ['toss 2 cups berries with sugar', 'let stand ...   \n",
       "23695   ['soak saffron in warm milk for 5 minutes and ...   \n",
       "22701   ['into a 1 quart jar with tight fitting lid , ...   \n",
       "\n",
       "                                              ingred_list  \\\n",
       "126987  ['blueberries', 'granulated sugar', 'vanilla y...   \n",
       "23695   ['saffron', 'milk', 'hot green chili peppers',...   \n",
       "22701   ['sugar', 'lemons, rind of', 'fresh water', 'f...   \n",
       "\n",
       "                                item_name  stars  \\\n",
       "126987  low fat berry blue frozen dessert      4   \n",
       "23695                             biryani      3   \n",
       "22701                       best lemonade      1   \n",
       "\n",
       "                                           submitter_desc  \\\n",
       "126987  this is yummy and low-fat, it always turns out...   \n",
       "23695                                        delhi, india   \n",
       "22701   this is from one of my  first good house keepi...   \n",
       "\n",
       "                                                  summary  \\\n",
       "126987  toss 2 cups berries with sugar let stand for 4...   \n",
       "23695   soak saffron in warm milk for 5 minutes and pu...   \n",
       "22701   into a 1 quart jar with tight fitting lid  put...   \n",
       "\n",
       "                                             instructions  \n",
       "126987  toss 2 cups berries with sugar let stand for 4...  \n",
       "23695   soak saffron in warm milk for 5 minutes and pu...  \n",
       "22701   into a 1 quart jar with tight fitting lid , pu...  "
      ],
      "text/html": [
       "<div>\n",
       "<style scoped>\n",
       "    .dataframe tbody tr th:only-of-type {\n",
       "        vertical-align: middle;\n",
       "    }\n",
       "\n",
       "    .dataframe tbody tr th {\n",
       "        vertical-align: top;\n",
       "    }\n",
       "\n",
       "    .dataframe thead th {\n",
       "        text-align: right;\n",
       "    }\n",
       "</style>\n",
       "<table border=\"1\" class=\"dataframe\">\n",
       "  <thead>\n",
       "    <tr style=\"text-align: right;\">\n",
       "      <th></th>\n",
       "      <th>_id</th>\n",
       "      <th>combined</th>\n",
       "      <th>direction_list</th>\n",
       "      <th>ingred_list</th>\n",
       "      <th>item_name</th>\n",
       "      <th>stars</th>\n",
       "      <th>submitter_desc</th>\n",
       "      <th>summary</th>\n",
       "      <th>instructions</th>\n",
       "    </tr>\n",
       "  </thead>\n",
       "  <tbody>\n",
       "    <tr>\n",
       "      <th>126987</th>\n",
       "      <td>38</td>\n",
       "      <td>blueberry granulated sugar vanilla yogurt lemo...</td>\n",
       "      <td>['toss 2 cups berries with sugar', 'let stand ...</td>\n",
       "      <td>['blueberries', 'granulated sugar', 'vanilla y...</td>\n",
       "      <td>low fat berry blue frozen dessert</td>\n",
       "      <td>4</td>\n",
       "      <td>this is yummy and low-fat, it always turns out...</td>\n",
       "      <td>toss 2 cups berries with sugar let stand for 4...</td>\n",
       "      <td>toss 2 cups berries with sugar let stand for 4...</td>\n",
       "    </tr>\n",
       "    <tr>\n",
       "      <th>23695</th>\n",
       "      <td>39</td>\n",
       "      <td>saffron milk hot green chili pepper onion garl...</td>\n",
       "      <td>['soak saffron in warm milk for 5 minutes and ...</td>\n",
       "      <td>['saffron', 'milk', 'hot green chili peppers',...</td>\n",
       "      <td>biryani</td>\n",
       "      <td>3</td>\n",
       "      <td>delhi, india</td>\n",
       "      <td>soak saffron in warm milk for 5 minutes and pu...</td>\n",
       "      <td>soak saffron in warm milk for 5 minutes and pu...</td>\n",
       "    </tr>\n",
       "    <tr>\n",
       "      <th>22701</th>\n",
       "      <td>40</td>\n",
       "      <td>sugar rind fresh water fresh lemon juice ice c...</td>\n",
       "      <td>['into a 1 quart jar with tight fitting lid , ...</td>\n",
       "      <td>['sugar', 'lemons, rind of', 'fresh water', 'f...</td>\n",
       "      <td>best lemonade</td>\n",
       "      <td>1</td>\n",
       "      <td>this is from one of my  first good house keepi...</td>\n",
       "      <td>into a 1 quart jar with tight fitting lid  put...</td>\n",
       "      <td>into a 1 quart jar with tight fitting lid , pu...</td>\n",
       "    </tr>\n",
       "  </tbody>\n",
       "</table>\n",
       "</div>"
      ]
     },
     "metadata": {},
     "execution_count": 82
    }
   ],
   "metadata": {}
  },
  {
   "cell_type": "code",
   "execution_count": null,
   "source": [],
   "outputs": [],
   "metadata": {}
  },
  {
   "cell_type": "code",
   "execution_count": 100,
   "source": [
    "#feature extraction\n",
    "tfidf = TfidfVectorizer(ngram_range=(2,3), sublinear_tf=True)\n",
    "# ngram_range = (1,2)\n",
    "# norm{‘l1’, ‘l2’}, default=’l2’\n",
    "# sublinear_tf, default=False\n",
    "\n",
    "# tfidf = TfidfVectorizer()\n",
    "tfidf.fit(recipes['combined'])\n",
    "recipe_feat = tfidf.transform(recipes['combined'])\n",
    "\n",
    "'''\n",
    "creating important pickle files for app to run\n",
    "'''\n",
    "with open('my_app/data/TFIDF_Model.pkl','wb') as f:\n",
    "    pickle.dump(tfidf, f)\n",
    "    \n",
    "\n",
    "with open('my_app/data/Features.pkl', 'wb') as f:\n",
    "    pickle.dump(recipe_feat, f)\n",
    "\n",
    "with open('my_app/data/Pandas_Data.pkl','wb') as f:\n",
    "    pickle.dump(recipes, f)\n",
    "\n",
    "gc.disable()\n",
    "\n",
    "file = open('my_app/data/TFIDF_Model2.pkl', 'wb')\n",
    "cPickle.dump(tfidf, file, protocol=-1)\n",
    "file.close()\n",
    "\n",
    "file = open('my_app/data/Features2.pkl', 'wb')\n",
    "cPickle.dump(recipe_feat, file, protocol=-1)\n",
    "file.close()\n",
    "\n",
    "file = open('my_app/data/Pandas_Data2.pkl', 'wb')\n",
    "cPickle.dump(recipes, file, protocol=-1)\n",
    "file.close()\n",
    "\n",
    "gc.enable()"
   ],
   "outputs": [],
   "metadata": {}
  },
  {
   "cell_type": "code",
   "execution_count": 84,
   "source": [
    "def reco_maker(top_n, scores):\n",
    "    print(scores[:3])\n",
    "    top = sorted(range(len(scores)), key= lambda i: scores[i], reverse=True)[:top_n]\n",
    "\n",
    "    recos = pd.DataFrame(columns = [\"recipe\", \"ingredients\",'instructions', \"score\"])\n",
    "\n",
    "    count= 0\n",
    "    for i in top:\n",
    "        recos.at[count, \"recipe\"] = format_title(recipes[\"item_name\"][i])\n",
    "        recos.at[count, \"ingredients\"] = recipes[\"combined\"][i]\n",
    "        recos.at[count, \"instructions\"] = pretty_grocery(recipes['direction_list'][i])\n",
    "        # recos.at[count, \"ingredients\"] = pretty_grocery(recipes[\"combined\"][i])\n",
    "        # recos.at[count, \"instructions\"] = pretty_grocery(recipes['direction_list'][i])\n",
    "        recos.at[count, \"score\"] = \"{:.3f}\".format(float(scores[i]))\n",
    "        \n",
    "        count += 1\n",
    "    return recos\n",
    "\n"
   ],
   "outputs": [],
   "metadata": {}
  },
  {
   "cell_type": "code",
   "execution_count": 85,
   "source": [
    "def format_title(title):\n",
    "    title = unidecode(title)\n",
    "    return title\n",
    "\n",
    "def pretty_grocery(ingredient):\n",
    "    \n",
    "    if isinstance(ingredient, list):\n",
    "        ingredients=ingredient\n",
    "    else:\n",
    "        ingredients = ast.literal_eval(ingredient)    #     ingredients = ast.parse(ingredient)\n",
    "    # ingredients = ','.join(ingredient.split(' '))\n",
    "    ingredients = \",\".join(ingredients)\n",
    "    ingredients = unidecode(ingredients)\n",
    "    return ingredients"
   ],
   "outputs": [],
   "metadata": {}
  },
  {
   "cell_type": "code",
   "execution_count": 86,
   "source": [
    "def recomatic(ingredients, top_n=5):\n",
    "\n",
    "    with open('my_app/data/TFIDF_Model.pkl','rb') as f:\n",
    "        tfidf = pickle.load(f)\n",
    "\n",
    "    with open('my_app/data/Features.pkl', 'rb') as f:\n",
    "        feats = pickle.load(f)\n",
    "    feats = recipe_feat\n",
    "    parsed = \" \".join(ingredients)\n",
    "\n",
    "\n",
    "    ingredients_tfidf = tfidf.transform([parsed])\n",
    "    #cosine similarity  \n",
    "    similarity= map(lambda x: cosine_similarity(ingredients_tfidf, x,), feats)\n",
    "    scores = list(similarity)\n",
    "\n",
    "    #filter reccomendations from sklearn.metrics.cluster import fowlkes_mallows_score\n",
    "\n",
    "    reccomendations = reco_maker(top_n, scores)\n",
    "\n",
    "    return reccomendations\n",
    "\n",
    "\n",
    "if __name__ == \"__main__\":\n",
    "    # test ingredients\n",
    "    test_ingredients = ['steak', 'pasta', 'tomatoes']\n",
    "    recs = recomatic(test_ingredients)\n",
    "    print(recs)\n",
    "    # takes around 500 s"
   ],
   "outputs": [
    {
     "output_type": "stream",
     "name": "stdout",
     "text": [
      "[array([[0.]]), array([[0.]]), array([[0.]])]\n",
      "                                           recipe  \\\n",
      "0      warm grilled salmon  mushroom   leek salad   \n",
      "1  microwave bread and butter pickles  sugar free   \n",
      "2      arriba   baked winter squash mexican style   \n",
      "3                a bit different  breakfast pizza   \n",
      "4                       all in the kitchen  chili   \n",
      "\n",
      "                                         ingredients  \\\n",
      "0  new potato extra virgin olive oil salt pepper ...   \n",
      "1  cucumber sweet onion splenda granular salt cel...   \n",
      "2  winter squash mexican seasoning mixed spice ho...   \n",
      "3  prepared pizza crust sausage patty egg milk sa...   \n",
      "4  ground beef yellow onion diced tomato tomato p...   \n",
      "\n",
      "                                        instructions  score  \n",
      "0  cook potatoes in a large pot of boiling salted...  0.358  \n",
      "1  in a large microwave-safe bowl , combine all i...  0.260  \n",
      "2  make a choice and proceed with recipe,dependin...  0.000  \n",
      "3  preheat oven to 425 degrees f,press dough into...  0.000  \n",
      "4  brown ground beef in large pot,add chopped oni...  0.000  \n"
     ]
    }
   ],
   "metadata": {}
  },
  {
   "cell_type": "code",
   "execution_count": 87,
   "source": [
    "'''\n",
    "using steak pasta tomatos\n",
    "Adding ngram range\n",
    " recipe  \\\n",
    "0                             bagels   prosciutto   \n",
    "1              easy devils food chocolate muffins   \n",
    "2  microwave bread and butter pickles  sugar free   \n",
    "\n",
    "\n",
    "tfidf = TfidfVectorizer(ngram_range=(2,2))\n",
    "0      warm grilled salmon  mushroom   leek salad   \n",
    "1            best fresh margaritas by the pitcher   \n",
    "2  microwave bread and butter pickles  sugar free   \n",
    "3                    indian sprouted lentil salad   \n",
    "4                              risotto style soup  \n",
    "\n",
    "tfidf = TfidfVectorizer(ngram_range=(2,2), norm = 'l1')\n",
    "                                          recipe  \\\n",
    "0      warm grilled salmon  mushroom   leek salad   \n",
    "1            best fresh margaritas by the pitcher   \n",
    "2  microwave bread and butter pickles  sugar free   \n",
    "3                    indian sprouted lentil salad   \n",
    "4                              risotto style soup   \n",
    "\n",
    "tfidf = TfidfVectorizer(ngram_range=(2,2), norm = 'l1', sublinear_tf=True)\n",
    "                                          recipe  \\\n",
    "0      warm grilled salmon  mushroom   leek salad   \n",
    "1            best fresh margaritas by the pitcher   \n",
    "2  microwave bread and butter pickles  sugar free   \n",
    "3                    indian sprouted lentil salad   \n",
    "4                              risotto style soup   \n",
    "'''"
   ],
   "outputs": [
    {
     "output_type": "execute_result",
     "data": {
      "text/plain": [
       "\"\\nusing steak pasta tomatos\\nAdding ngram range\\n recipe  0                             bagels   prosciutto   \\n1              easy devils food chocolate muffins   \\n2  microwave bread and butter pickles  sugar free   \\n\\n\\ntfidf = TfidfVectorizer(ngram_range=(2,2))\\n0      warm grilled salmon  mushroom   leek salad   \\n1            best fresh margaritas by the pitcher   \\n2  microwave bread and butter pickles  sugar free   \\n3                    indian sprouted lentil salad   \\n4                              risotto style soup  \\n\\ntfidf = TfidfVectorizer(ngram_range=(2,2), norm = 'l1')\\n                                          recipe  0      warm grilled salmon  mushroom   leek salad   \\n1            best fresh margaritas by the pitcher   \\n2  microwave bread and butter pickles  sugar free   \\n3                    indian sprouted lentil salad   \\n4                              risotto style soup   \\n\\ntfidf = TfidfVectorizer(ngram_range=(2,2), norm = 'l1', sublinear_tf=True)\\n                                          recipe  0      warm grilled salmon  mushroom   leek salad   \\n1            best fresh margaritas by the pitcher   \\n2  microwave bread and butter pickles  sugar free   \\n3                    indian sprouted lentil salad   \\n4                              risotto style soup   \\n\""
      ]
     },
     "metadata": {},
     "execution_count": 87
    }
   ],
   "metadata": {}
  },
  {
   "cell_type": "code",
   "execution_count": 88,
   "source": [
    "type(recs)\n",
    "recs.info()"
   ],
   "outputs": [
    {
     "output_type": "stream",
     "name": "stdout",
     "text": [
      "<class 'pandas.core.frame.DataFrame'>\n",
      "Int64Index: 5 entries, 0 to 4\n",
      "Data columns (total 4 columns):\n",
      " #   Column        Non-Null Count  Dtype \n",
      "---  ------        --------------  ----- \n",
      " 0   recipe        5 non-null      object\n",
      " 1   ingredients   5 non-null      object\n",
      " 2   instructions  5 non-null      object\n",
      " 3   score         5 non-null      object\n",
      "dtypes: object(4)\n",
      "memory usage: 372.0+ bytes\n"
     ]
    }
   ],
   "metadata": {}
  },
  {
   "cell_type": "code",
   "execution_count": 89,
   "source": [
    "t1 = recs.loc[0][0]\n",
    "ingred1 = recs.loc[0][1]\n",
    "instructions1 = recs.loc[0][2]\n",
    "score1 = recs.loc[0][3]\n",
    "\n",
    "t2 = recs.loc[1][0]\n",
    "ingred2 = recs.loc[1][1]\n",
    "instructions2 = recs.loc[0][2]\n",
    "score2 = recs.loc[1][3]\n",
    "\n",
    "t3 = recs.loc[2][0]\n",
    "ingred3 = recs.loc[2][1]\n",
    "instructions3 = recs.loc[2][2]\n",
    "score3 = recs.loc[2][3]\n",
    "\n",
    "t4 = recs.loc[3][0]\n",
    "ingred4 = recs.loc[3][1]\n",
    "instructions4 = recs.loc[3][2]\n",
    "score4 = recs.loc[3][3]\n",
    "\n"
   ],
   "outputs": [],
   "metadata": {}
  },
  {
   "cell_type": "code",
   "execution_count": 90,
   "source": [
    "print(instructions4)"
   ],
   "outputs": [
    {
     "output_type": "stream",
     "name": "stdout",
     "text": [
      "preheat oven to 425 degrees f,press dough into the bottom and sides of a 12 inch pizza pan,bake for 5 minutes until set but not browned,cut sausage into small pieces,whisk eggs and milk in a bowl until frothy,spoon sausage over baked crust and sprinkle with cheese,pour egg mixture slowly over sausage and cheese,s& p to taste,bake 15-20 minutes or until eggs are set and crust is brown\n"
     ]
    }
   ],
   "metadata": {}
  },
  {
   "cell_type": "code",
   "execution_count": 91,
   "source": [
    "    # with open('my_app/data/Features.pkl', 'rb') as f:\n",
    "    #     feats = pickle.load(f)"
   ],
   "outputs": [],
   "metadata": {}
  },
  {
   "cell_type": "code",
   "execution_count": null,
   "source": [],
   "outputs": [],
   "metadata": {}
  },
  {
   "cell_type": "code",
   "execution_count": 92,
   "source": [
    "# full= pd.merge(recipes, ratings, right_on=['recipe_id'], left_on=['id']) "
   ],
   "outputs": [],
   "metadata": {}
  },
  {
   "cell_type": "code",
   "execution_count": 93,
   "source": [
    "import pandas as pd\n",
    "import pickle as cPickle\n",
    "# pickle.load('my_app/data/model_actual.pkl')\n",
    "# t = pd.read_pickle(r'my_app/data/model_actual.pkl')\n",
    "\n",
    "# objects = []\n",
    "# with (open('my_app/data/model_actual.pkl', \"rb\")) as openfile:\n",
    "#     while True:\n",
    "#         try:\n",
    "#             objects.append(pickle.load(openfile))\n",
    "#         except EOFError:\n",
    "#             break\n",
    "# while True:\n",
    "#     try:\n",
    "#         objects.append(pickle.load(pickle_file))\n",
    "#     except EOFError:\n",
    "#         break\n",
    "# pickle_file.close()\n",
    "# p = load('my_app/data/model_actual.pk', 'rb')\n",
    "\n",
    "\n"
   ],
   "outputs": [],
   "metadata": {}
  },
  {
   "cell_type": "code",
   "execution_count": null,
   "source": [],
   "outputs": [],
   "metadata": {}
  },
  {
   "cell_type": "code",
   "execution_count": null,
   "source": [],
   "outputs": [],
   "metadata": {}
  },
  {
   "cell_type": "code",
   "execution_count": 94,
   "source": [
    "update=full_data.copy()\n",
    "\n",
    "\n",
    "update.head(2)\n",
    "# update.sortby(id)"
   ],
   "outputs": [
    {
     "output_type": "execute_result",
     "data": {
      "text/plain": [
       "                                         name      id  minutes  \\\n",
       "0  arriba   baked winter squash mexican style  137739       55   \n",
       "1            a bit different  breakfast pizza   31490       30   \n",
       "\n",
       "   contributor_id   submitted  \\\n",
       "0           47892  2005-09-16   \n",
       "1           26278  2002-06-17   \n",
       "\n",
       "                                                tags  \\\n",
       "0  ['60-minutes-or-less', 'time-to-make', 'course...   \n",
       "1  ['30-minutes-or-less', 'time-to-make', 'course...   \n",
       "\n",
       "                                   nutrition  n_steps  \\\n",
       "0      [51.5, 0.0, 13.0, 0.0, 2.0, 0.0, 4.0]       11   \n",
       "1  [173.4, 18.0, 0.0, 17.0, 22.0, 35.0, 1.0]        9   \n",
       "\n",
       "                                               steps  \\\n",
       "0  ['make a choice and proceed with recipe', 'dep...   \n",
       "1  ['preheat oven to 425 degrees f', 'press dough...   \n",
       "\n",
       "                                         description  \\\n",
       "0  autumn is my favorite time of year to cook! th...   \n",
       "1  this recipe calls for the crust to be prebaked...   \n",
       "\n",
       "                                         ingredients  n_ingredients  user_id  \\\n",
       "0  ['winter squash', 'mexican seasoning', 'mixed ...              7     4470   \n",
       "1  ['prepared pizza crust', 'sausage patty', 'egg...              6    28603   \n",
       "\n",
       "   recipe_id        date  rating  \\\n",
       "0     137739  2006-02-18       5   \n",
       "1      31490  2002-08-19       0   \n",
       "\n",
       "                                              review  \n",
       "0   I used an acorn squash and recipe#137681 Swee...  \n",
       "1  Have not tried this, but it sounds delicious. ...  "
      ],
      "text/html": [
       "<div>\n",
       "<style scoped>\n",
       "    .dataframe tbody tr th:only-of-type {\n",
       "        vertical-align: middle;\n",
       "    }\n",
       "\n",
       "    .dataframe tbody tr th {\n",
       "        vertical-align: top;\n",
       "    }\n",
       "\n",
       "    .dataframe thead th {\n",
       "        text-align: right;\n",
       "    }\n",
       "</style>\n",
       "<table border=\"1\" class=\"dataframe\">\n",
       "  <thead>\n",
       "    <tr style=\"text-align: right;\">\n",
       "      <th></th>\n",
       "      <th>name</th>\n",
       "      <th>id</th>\n",
       "      <th>minutes</th>\n",
       "      <th>contributor_id</th>\n",
       "      <th>submitted</th>\n",
       "      <th>tags</th>\n",
       "      <th>nutrition</th>\n",
       "      <th>n_steps</th>\n",
       "      <th>steps</th>\n",
       "      <th>description</th>\n",
       "      <th>ingredients</th>\n",
       "      <th>n_ingredients</th>\n",
       "      <th>user_id</th>\n",
       "      <th>recipe_id</th>\n",
       "      <th>date</th>\n",
       "      <th>rating</th>\n",
       "      <th>review</th>\n",
       "    </tr>\n",
       "  </thead>\n",
       "  <tbody>\n",
       "    <tr>\n",
       "      <th>0</th>\n",
       "      <td>arriba   baked winter squash mexican style</td>\n",
       "      <td>137739</td>\n",
       "      <td>55</td>\n",
       "      <td>47892</td>\n",
       "      <td>2005-09-16</td>\n",
       "      <td>['60-minutes-or-less', 'time-to-make', 'course...</td>\n",
       "      <td>[51.5, 0.0, 13.0, 0.0, 2.0, 0.0, 4.0]</td>\n",
       "      <td>11</td>\n",
       "      <td>['make a choice and proceed with recipe', 'dep...</td>\n",
       "      <td>autumn is my favorite time of year to cook! th...</td>\n",
       "      <td>['winter squash', 'mexican seasoning', 'mixed ...</td>\n",
       "      <td>7</td>\n",
       "      <td>4470</td>\n",
       "      <td>137739</td>\n",
       "      <td>2006-02-18</td>\n",
       "      <td>5</td>\n",
       "      <td>I used an acorn squash and recipe#137681 Swee...</td>\n",
       "    </tr>\n",
       "    <tr>\n",
       "      <th>1</th>\n",
       "      <td>a bit different  breakfast pizza</td>\n",
       "      <td>31490</td>\n",
       "      <td>30</td>\n",
       "      <td>26278</td>\n",
       "      <td>2002-06-17</td>\n",
       "      <td>['30-minutes-or-less', 'time-to-make', 'course...</td>\n",
       "      <td>[173.4, 18.0, 0.0, 17.0, 22.0, 35.0, 1.0]</td>\n",
       "      <td>9</td>\n",
       "      <td>['preheat oven to 425 degrees f', 'press dough...</td>\n",
       "      <td>this recipe calls for the crust to be prebaked...</td>\n",
       "      <td>['prepared pizza crust', 'sausage patty', 'egg...</td>\n",
       "      <td>6</td>\n",
       "      <td>28603</td>\n",
       "      <td>31490</td>\n",
       "      <td>2002-08-19</td>\n",
       "      <td>0</td>\n",
       "      <td>Have not tried this, but it sounds delicious. ...</td>\n",
       "    </tr>\n",
       "  </tbody>\n",
       "</table>\n",
       "</div>"
      ]
     },
     "metadata": {},
     "execution_count": 94
    }
   ],
   "metadata": {}
  },
  {
   "cell_type": "code",
   "execution_count": 95,
   "source": [
    "update['stars'] = update.rating.mean().groupby('recipe_id')\n",
    "\n",
    "update.head()"
   ],
   "outputs": [
    {
     "output_type": "error",
     "ename": "AttributeError",
     "evalue": "'float' object has no attribute 'groupby'",
     "traceback": [
      "\u001b[0;31m---------------------------------------------------------------------------\u001b[0m",
      "\u001b[0;31mAttributeError\u001b[0m                            Traceback (most recent call last)",
      "\u001b[0;32m<ipython-input-95-45a2430f7573>\u001b[0m in \u001b[0;36m<module>\u001b[0;34m\u001b[0m\n\u001b[0;32m----> 1\u001b[0;31m \u001b[0mupdate\u001b[0m\u001b[0;34m[\u001b[0m\u001b[0;34m'stars'\u001b[0m\u001b[0;34m]\u001b[0m \u001b[0;34m=\u001b[0m \u001b[0mupdate\u001b[0m\u001b[0;34m.\u001b[0m\u001b[0mrating\u001b[0m\u001b[0;34m.\u001b[0m\u001b[0mmean\u001b[0m\u001b[0;34m(\u001b[0m\u001b[0;34m)\u001b[0m\u001b[0;34m.\u001b[0m\u001b[0mgroupby\u001b[0m\u001b[0;34m(\u001b[0m\u001b[0;34m'recipe_id'\u001b[0m\u001b[0;34m)\u001b[0m\u001b[0;34m\u001b[0m\u001b[0;34m\u001b[0m\u001b[0m\n\u001b[0m\u001b[1;32m      2\u001b[0m \u001b[0;34m\u001b[0m\u001b[0m\n\u001b[1;32m      3\u001b[0m \u001b[0mupdate\u001b[0m\u001b[0;34m.\u001b[0m\u001b[0mhead\u001b[0m\u001b[0;34m(\u001b[0m\u001b[0;34m)\u001b[0m\u001b[0;34m\u001b[0m\u001b[0;34m\u001b[0m\u001b[0m\n",
      "\u001b[0;31mAttributeError\u001b[0m: 'float' object has no attribute 'groupby'"
     ]
    }
   ],
   "metadata": {}
  },
  {
   "cell_type": "code",
   "execution_count": null,
   "source": [
    "# filename = 'pandas_data'\n",
    "# outfile = open(filename, 'wb')\n",
    "\n",
    "# pickle.dump(update, outfile)\n",
    "# outfile.close"
   ],
   "outputs": [],
   "metadata": {}
  },
  {
   "cell_type": "code",
   "execution_count": null,
   "source": [],
   "outputs": [],
   "metadata": {}
  }
 ],
 "metadata": {
  "language_info": {
   "name": "python",
   "version": "3.9.2",
   "mimetype": "text/x-python",
   "codemirror_mode": {
    "name": "ipython",
    "version": 3
   },
   "pygments_lexer": "ipython3",
   "nbconvert_exporter": "python",
   "file_extension": ".py"
  },
  "kernelspec": {
   "name": "python3",
   "display_name": "Python 3.9.2 64-bit ('base': conda)"
  },
  "interpreter": {
   "hash": "f589b74b5f9dfadb2b978c0f6d0c86213b22d6e1bb02d62665d77952f7aaa902"
  }
 },
 "nbformat": 4,
 "nbformat_minor": 5
}